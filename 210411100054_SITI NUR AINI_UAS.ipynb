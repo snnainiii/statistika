{
 "cells": [
  {
   "cell_type": "markdown",
   "id": "5f44bd32",
   "metadata": {},
   "source": [
    "**NAMA : SITI NUR AINI**\n",
    "\n",
    "**NIM : 210411100054**\n",
    "\n",
    "**KELAS : METODE STATISTIKA D**"
   ]
  },
  {
   "cell_type": "markdown",
   "id": "1cca0791",
   "metadata": {},
   "source": [
    "# Estimasi Rata-Rata, Standard Deviasi, Skewness, dan Kurtosis"
   ]
  },
  {
   "cell_type": "markdown",
   "id": "286cbd29",
   "metadata": {},
   "source": [
    "## Estimasi Rata-Rata"
   ]
  },
  {
   "cell_type": "markdown",
   "id": "b592eef6",
   "metadata": {},
   "source": [
    "Estimasi merupakan suatu metode dimana kita dapat memperkirakan nilai Populasi dengan memakai nilai sampel. Misalnya rata-rata sampel digunakan untuk menaksir rata-rata pupolasi proporsi sampel untuk menaksir proporsi populasi  ( p ), dan jumlah ciri tertentu sampel untuk menaksir jumlah ciri tertentu populasi. Nilai penduga disebut dengan estimator, sedangkan hasil estimasi disebut dengan estimasi secara statistik.\n",
    "\n"
   ]
  },
  {
   "cell_type": "markdown",
   "id": "dd794b27",
   "metadata": {},
   "source": [
    "#### Rumus :"
   ]
  },
  {
   "cell_type": "markdown",
   "id": "7ac8ad2d",
   "metadata": {},
   "source": [
    "Rata-rata (xbar)-t(a/2) x s/√𝑛 < 𝜇 < Rata-rata (xbar) + t(a/2) x s/√𝑛\n",
    "\n",
    "xbar = rata-rata s = standard deviasi n = jumlah sampel"
   ]
  },
  {
   "cell_type": "markdown",
   "id": "b89a4cd9",
   "metadata": {},
   "source": [
    "## Standard Deviasi"
   ]
  },
  {
   "cell_type": "markdown",
   "id": "4df1616a",
   "metadata": {},
   "source": [
    "Standar deviasi adalah pengukuran statistik dalam keuangan yang, ketika diterapkan pada tingkat pengembalian tahunan investasi, menyoroti volatilitas historis investasi tersebut. Semakin besar standar deviasi sekuritas, semakin besar varians antara setiap harga dan rata-rata, yang menunjukkan kisaran harga yang lebih besar. Sebagai contoh, sebuah saham volatil memiliki standar deviasi yang tinggi, sedangkan deviasi dari saham blue-chip yang stabil biasanya agak rendah.\n",
    "\n",
    "Standar deviasi dari kumpulan data sama dengan nol menunjukkan bahwa semua nilai-nilai dalam himpunan tersebut adalah sama. Nilai deviasi yang lebih besar akan memberikan makna bahwa titik data individu jauh dari nilai rata-rata."
   ]
  },
  {
   "cell_type": "markdown",
   "id": "108816f4",
   "metadata": {},
   "source": [
    "#### Kelebihan Standar Deviasi:"
   ]
  },
  {
   "cell_type": "markdown",
   "id": "5dabba76",
   "metadata": {},
   "source": [
    "* Anda dapat melakukan operasi aljabar dan tidak terlalu terpengaruh oleh fluktuasi pengambilan sampel daripada kebanyakan ukuran dispersi lainnya.\n",
    "* Dimungkinkan untuk menghitung standar deviasi gabungan dari dua atau lebih kelompok. Ini tidak mungkin dilakukan dengan tindakan lain apa pun.\n",
    "* Untuk membandingkan variabilitas dua atau lebih distribusi, koefisien variasi dianggap paling tepat dan ini didasarkan pada standar deviasi patokan.\n",
    "* Standar deviasi paling menonjol digunakan dalam pekerjaan statistik lebih lanjut. Misalnya, dalam menghitung kemiringan, korelasi, dll., Penggunaan dibuat dari standar deviasi.\n",
    "* Standar deviasi adalah inti sari dalam pengambilan sampel dan menyediakan unit pengukuran untuk distribusi normal."
   ]
  },
  {
   "cell_type": "markdown",
   "id": "10084b39",
   "metadata": {},
   "source": [
    "## Skewness (Kemiringan)"
   ]
  },
  {
   "cell_type": "markdown",
   "id": "f70ccab3",
   "metadata": {},
   "source": [
    "Kemencengan atau kecondongan (skewness) adalah tingkat ketidaksimetrisan atau kejauhan simetri dari sebuah distribusi. Skewness diartikan sebagai kemiringan distribusi data. Sebuah distribusi yang tidak simetris akan memiliki rata-rata, median, dan modus yang tidak sama besarnya sehingga distribusi akan terkonsentrasi pada salah satu sisi dan kurvanya akan menceng. Ukuran kemiringan kurva adalah derajat atau ukuran dari ketidaksimetrian suatu distribusi data. Nilai skewness (ukuran kemiringan) menunjukkan data normal ketika nilai-nilai tersebut berada di antara rentang nilai -2 sampai dengan 2. Kurva positif apabila rata-rata hitung > modus/median. Kurva negative apabila rata-rata hitung < modus/media. Jika distribusi memiliki ekor yang lebih panjang ke kanan daripada yang ke kiri maka distribusi disebut menceng ke kanan atau memiliki kemencengan positif. Sebaliknya, jika distribusi memiliki ekor yang lebih panjang ke kiri daripada yang ke kanan maka distribusi disebut menceng ke kiri atau memiliki kemencengan negatif. Berikut ini gambar kurva dari distribusi yang menceng ke kanan (menceng positif) dan menceng ke kiri (menceng negatif) (Ghozali, 2016).\n",
    "\n",
    "Kriteria untuk mengetahui model distribusi dari koefisien kemiringan :\n",
    "\n",
    "* Jika koefisien kemiringan <nol, maka bentuk distribusinya negative (ekor bagian kiri lebih Panjang).\n",
    "* Jika koefisien kemiringan = nol, maka bentuk distribusinya simetrik.\n",
    "* Jika koefisien kemiringan > nol, maka bentuk distribusinya positif (ekor bagian kanan lebih Panjang)."
   ]
  },
  {
   "cell_type": "markdown",
   "id": "d2e683de",
   "metadata": {},
   "source": [
    "## Kurtosis (Keruncingan)"
   ]
  },
  {
   "cell_type": "markdown",
   "id": "79468ea0",
   "metadata": {},
   "source": [
    "Keruncingan disebut juga ketinggian kurva. Keruncingan atau kurtosis adalah tingkat kepuncakan dari sebuah distribusi yang biasanya diambil secararelatif terhadap suatu distribusi normal. Rata-rata dan ukuran penyebaran dapat menggambarkan distribusi data tetapi tidak cukup untuk menggambarkan sifat distribusi. Untuk dapat menggambarkan karakteristik dari suatu distribusi data, kita menggunakan konsep-konsep yang dikenal sebagai kemiringan (skewness) dan keruncingan (kurtosis). Ukuran keruncingan (Kurtosis) adalah derajat kepuncakan dari suatu distribusi, biasanya diambil relative terhadap distribusi normal. Andi Supangat (2007: 126) mengatakan bahwa tingkat keruncingan dari suatu kurva (kurtosis) merupakan besaran untuk menentukan jenis kurva (runcing, normal, atau datar). Kurtosis (ketinggian kurva) pada distribusi frekuensi di bagi dalam tiga bagian yaitu (1) leptokurtis (sangat runcing), mesokurtis (keruncingan sedang) dan platykurtis (kurva datar).\n",
    "\n",
    "Kriteria untuk mengetahui model distribusi dari koefisien kurtosis sebagai berikut :\n",
    "\n",
    "* Jika koefisien kurang dari 3 maka distribusinya adalah platikurtik\n",
    "* Jika koefisien kurtosis sama dengan 3 maka distribusinya adalah mesokurtic\n",
    "* Jika koefisien kurtosis lebih dari 3 maka distribusinya adalah leptokurtic."
   ]
  },
  {
   "cell_type": "code",
   "execution_count": 1,
   "id": "d40dc9df",
   "metadata": {},
   "outputs": [
    {
     "name": "stdout",
     "output_type": "stream",
     "text": [
      "Standar Deviasi adalah:  7.119691004531026\n"
     ]
    }
   ],
   "source": [
    "#Program Standard Deviasi\n",
    "def standar_deviasi(data) :\n",
    "    jumlah=0\n",
    "    for i in range (len(data)):\n",
    "        jumlah+=data[i]\n",
    "        \n",
    "    rata_rata=jumlah/len(data)\n",
    "    sigma=0\n",
    "    for i in range (len(data)):\n",
    "        hitung=(data[i]-rata_rata)**2\n",
    "        sigma+=hitung\n",
    "    pembagianN=sigma/len(data)\n",
    "    cariStandar_Deviasi=pembagianN**0.5\n",
    "    print(\"Standar Deviasi adalah: \", cariStandar_Deviasi)\n",
    "    \n",
    "data=[50,58,43,64,47,50,56,47,60,64]\n",
    "standar_deviasi(data)"
   ]
  },
  {
   "cell_type": "code",
   "execution_count": 2,
   "id": "89a0435e",
   "metadata": {},
   "outputs": [
    {
     "data": {
      "text/plain": [
       "0.08176290963037283"
      ]
     },
     "execution_count": 2,
     "metadata": {},
     "output_type": "execute_result"
    }
   ],
   "source": [
    "from scipy.stats import skew\n",
    "data = [50,58,43,64,47,50,56,47,60,64]\n",
    "skew(data)"
   ]
  },
  {
   "cell_type": "code",
   "execution_count": 3,
   "id": "04e2df64",
   "metadata": {},
   "outputs": [
    {
     "data": {
      "text/plain": [
       "-1.380579722068635"
      ]
     },
     "execution_count": 3,
     "metadata": {},
     "output_type": "execute_result"
    }
   ],
   "source": [
    "from scipy.stats import kurtosis\n",
    "\n",
    "data = [50,58,43,64,47,50,56,47,60,64]\n",
    "kurtosis(data)"
   ]
  },
  {
   "cell_type": "markdown",
   "id": "0e52bf56",
   "metadata": {},
   "source": [
    "# KNN Regresi"
   ]
  },
  {
   "cell_type": "markdown",
   "id": "54a504d2",
   "metadata": {},
   "source": [
    "Regresi adalah suatu teknik analisis untuk mengidentifikasi relasi atau hubungan diantara dua variabel atau lebih. Regresi bertujuan untuk menemukan suatu fungsi yang memodelkan data dengan meminimalkan error atau selisih antara nilai prediksi dengan nilai sebenarnya.\n",
    "\n",
    "Regresi termasuk ke dalam supervised learning yang digunakan untuk memprediksi nilai kontinu.\n",
    "Dalam regresi, ada dua jenis variabel yaitu Dependent variable dan Independent variable. Variabel dependen adalah variabel yang akan kita prediksi atau pelajari, sedangkan variabel independen adalah variabel yang menjelaskan atau menyebabkan nilai target di variabel dependen.\n",
    "Variabel independen dinotasikan dengan X, sementara variabel dependen dinotasikan dengan Y. Yang harus diperhatikan dalam kasus regresi adalah nilai dari variabel dependen (Y) harus berupa nilai kontinu, bukan diskrit. Sementara itu untuk variabel independen (X) bisa berupa nilai kontinu maupun kategori, misalnya sedan, hatchback, wagon, convertible.\n"
   ]
  },
  {
   "cell_type": "markdown",
   "id": "b40bf850",
   "metadata": {},
   "source": [
    "**CARA KERJA KNN (STEP BY STEP)**\n",
    "\n",
    "Secara lengkap, proses kerja algoritma KNN untuk reresi dapat dituliskan sebagai berikut :\n",
    "1.\tLangkah-1: Tentukan jumlah tetangga terdekat (K) yang akan dipertimbangkan sebagai dasar klasifikasi.\n",
    "2.\tLangkah-2: Hitung jarak antara data baru terhadap semua titik data dalam dataset.\n",
    "3.\tLangkah 3: Urutkan jarak pada langkah 2 dari kecil ke besar, lalu ambil titik data dengan jarak terkecil sejumlah K titik.\n",
    "4.\tLangkah-4: Hitung rata-rata nilai variabel output dari tiap titik, bisa juga melibatkan pembobotan berdasarkan jarak dalam perhitungan rata-ratanya (Inverse Distance Weighting).\n",
    "5.\tLangkah-5: Masukkan nilai rata-rata tersebut sebagai output prediksi.\n",
    "\n",
    "\n",
    "**CARA MENENTUKAN NILAI K PADA ALGORITMA K-NN**\n",
    "\n",
    "Pada metode K Nearest Neighbor, nilai K adalah jumlah tetangga terdekat yang digunakan oleh algoritma dalam proses klasifikasi maupun regresi.\n",
    "Nilai K ditetapkan dengan nilai ganjil untuk menghindari adanya kesamaan jarak yang dapat muncul pada proses KNN dijalankan.\n",
    "Berikut ini adalah beberapa pertimbangan yang dapat digunakan untuk menentukan nilai K:\n",
    "*\tTidak ada cara khusus untuk benar-benar menentukan nilai terbaik untuk parameter K pada algoritma K-NN.\n",
    "*\tNilai K yang sangat kecil, misala K=2 atau K=3 akan memberikan hasil yang kurang akurat, terutama jika ada banyak outlier dalam data kita. Selain itu, penggunakan K kecil dapat mengarahkan kita pada model yang overfit.\n",
    "*\tNilai K yang terlalu besar dapat memberikan hasil yang lebih akurat dan batas yang lebih halus. JIka K terlalu besar, kelas dengan jumlah titik data yang kecil akan selalu “kalah jumlah” dalam proses klasifikasi. Selain itu, nilai K yang besar juga akan memakan waktu dan sumberdaya komputasi yang lebih tinggi. \n",
    "*\tJika bekerja pada dua kelas/ kategori, gunakan nilai K ganjil untuk menghindari jumlah kelas yang sama pada saat perhitungan kelas K.\n",
    "*\tSebagai ancar-ancar atau rule of thumb, nilai K=5 merupakan nilai yang paling sering digunakan.\n",
    "\n",
    "\n",
    "**KELEBIHAN K-NEAREST NEIGHBOR**\n",
    "\n",
    "Berikut ini adalah kelebihan atau keunggulan dari algoritma K- Nearest Neighbor:\n",
    "*\tSangat sederhana dan mudah dipahami\n",
    "*\tSangat mudah diterapkan\n",
    "*\tDapat digunakan dalam proses klasifikasi maupun regresi.\n",
    "*\tDapat digunakan dalam jumlah kelas yang berbeda-beda\n",
    "*\tTidak memerlukan proses training dan proses pembangunan model, karena data baru langsung dikelaskan.\n",
    "\tSangat mudah jika akan dilakukan penambahan data\n",
    "\tParameter yang diperlukan sedikit, yaitu hanya jumlah tetangga yang *   dipertimbangkan (K), dan metode perhitungan jaraknya (distance metrik)\n",
    "*\tHasil pemodelan tidak linear, sehingga cocok untuk klasifikasi data yang batasannya tidak linear.\n",
    "\n",
    "\n",
    "**KELEMAHAN K-NEAREST NEIGHBOR**\n",
    "\n",
    "\n",
    "sedangkan beberapa kelemahan atau kekurangan dari algoritma k-nearest neighbor antara lain:\n",
    "*\tPerlu menentukan nilai K yang tepat.\n",
    "*\tComputation cost yang tinggi\n",
    "*\tWaktu pemrosesan yang lama jika datasetnya sangat besar.\n",
    "*\tTidak cukup bagus jika diterapkan pada high dimensional data\n",
    "*\tSangat sensitif pada data yang memiliki banyak noise (noisy data), banyak data yang hilang (missing data), dan pencilan (outliers).\n",
    "\n"
   ]
  },
  {
   "cell_type": "code",
   "execution_count": null,
   "id": "5c31de88",
   "metadata": {},
   "outputs": [],
   "source": [
    "from sklearn.neighbors import KNeighborsRegressor\n",
    "knnr = KNeighborsRegressor(n,neighbors = 3)\n",
    "knnr.fit(x,y)\n",
    "print(\"The MSE is :\",format(np.power(y-knnr.predict(x),2).mean()))"
   ]
  },
  {
   "cell_type": "markdown",
   "id": "c5348d23",
   "metadata": {},
   "source": [
    "# Selang Kepercayaan"
   ]
  },
  {
   "cell_type": "markdown",
   "id": "24c98af2",
   "metadata": {},
   "source": [
    "Selang kepercayaan merupakan perkiraan rentang nilai yang mencakup nilai parameter populasi sebenarnya.\n",
    "\n",
    "Selang kepercayaan (confidence interval) merupakan metode digunakan untuk memperkirakan parameter populasi berdasarkan sampel menggunakan metode statistik tertentu dalam sebuah rentang tertentu. Tujuan menggunakan interval kepercayaan adalah memiliki margin kesalahan sekecil mungkin. Semakin sempit interval, semakin akurat nilai statistik yang kita gunakan.Seperti yang kita tahu, margin of error bentuk toleransi yang mungkin terjadi dalam pengujian statistik. Pada dasarnya, sampel diambil secara acak untuk menghasilkan nilai yang dapat mewakili parameter. Tapi, pengukurannya akan berbeda jika Anda menggunakan sampel lain yang diambil secara acak. Hal ini akan menyebabkan perhitungan yang berbeda. Oleh karena itu, selang kepercayaan adalah solusi untuk memastikan bahwa statistik yang kita hasilkan akurat dalam rentang nilai tertentu (yang merupakan margin kesalahan) dan dapat menggambarkan populasi dengan baik.\n",
    "\n",
    "Ada tiga faktor yang mempengaruhi margin of error:\n",
    "* tingkat kepercayaan\n",
    "* ukuran sampel \n",
    "* variabilitas dalam populasi.\n"
   ]
  },
  {
   "cell_type": "code",
   "execution_count": 6,
   "id": "f4189ae4",
   "metadata": {},
   "outputs": [],
   "source": [
    "import numpy as np\n",
    "from scipy import stats"
   ]
  },
  {
   "cell_type": "code",
   "execution_count": 7,
   "id": "cc977ec1",
   "metadata": {},
   "outputs": [
    {
     "name": "stdout",
     "output_type": "stream",
     "text": [
      "(2.5020000000000002, 2.698)\n"
     ]
    }
   ],
   "source": [
    "a = 2.6\n",
    "b = 1.96\n",
    "c = 0.05\n",
    "\n",
    "hasil = a - b*c, a + b*c\n",
    "print(hasil)"
   ]
  },
  {
   "cell_type": "code",
   "execution_count": null,
   "id": "8ce89b01",
   "metadata": {},
   "outputs": [],
   "source": []
  }
 ],
 "metadata": {
  "kernelspec": {
   "display_name": "Python 3 (ipykernel)",
   "language": "python",
   "name": "python3"
  },
  "language_info": {
   "codemirror_mode": {
    "name": "ipython",
    "version": 3
   },
   "file_extension": ".py",
   "mimetype": "text/x-python",
   "name": "python",
   "nbconvert_exporter": "python",
   "pygments_lexer": "ipython3",
   "version": "3.9.7"
  }
 },
 "nbformat": 4,
 "nbformat_minor": 5
}
